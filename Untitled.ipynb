{
 "cells": [
  {
   "cell_type": "code",
   "execution_count": 1,
   "metadata": {
    "collapsed": true
   },
   "outputs": [],
   "source": [
    "%matplotlib inline\n",
    "import pandas as pd\n",
    "import numpy as np"
   ]
  },
  {
   "cell_type": "code",
   "execution_count": 2,
   "metadata": {
    "collapsed": false
   },
   "outputs": [
    {
     "name": "stdout",
     "output_type": "stream",
     "text": [
      "Loading CSVs.\n"
     ]
    }
   ],
   "source": [
    "print(\"Loading CSVs.\")\n",
    "types = {\n",
    "        'Product_Category_1' : np.dtype(float),\n",
    "        'Product_Category_2' : np.dtype(float),\n",
    "        'Product_Category_3' : np.dtype(float),\n",
    "        'Product_ID' : np.dtype(str),\n",
    "        'Gender' : np.dtype(str),\n",
    "        'City_Category' : np.dtype(str),\n",
    "        #'Stay_In_Current_City_Years' : np.dtype(float),\n",
    "        'Purchase' : np.dtype(float),\n",
    "    }\n",
    "train = pd.read_csv('data/train.csv', dtype=types)\n",
    "test = pd.read_csv('data/test.csv', dtype=types)"
   ]
  },
  {
   "cell_type": "code",
   "execution_count": 3,
   "metadata": {
    "collapsed": false
   },
   "outputs": [],
   "source": [
    "# for f in train.columns:\n",
    "#     print train[f].dtype\n",
    "    \n",
    "# train = train['Age'].astype(basestring)\n",
    "# print train['Age'].dtype\n",
    "# #train['Age_Id'] = train['Age'].apply(lambda x: getAgeId(x))"
   ]
  },
  {
   "cell_type": "code",
   "execution_count": 13,
   "metadata": {
    "collapsed": false
   },
   "outputs": [
    {
     "name": "stdout",
     "output_type": "stream",
     "text": [
      "0          2\n",
      "1          2\n",
      "2          2\n",
      "3          2\n",
      "4         4+\n",
      "5          3\n",
      "6          2\n",
      "7          2\n",
      "8          2\n",
      "9          1\n",
      "10         1\n",
      "11         1\n",
      "12         1\n",
      "13         1\n",
      "14         1\n",
      "15         1\n",
      "16         1\n",
      "17         1\n",
      "18         1\n",
      "19        4+\n",
      "20        4+\n",
      "21        4+\n",
      "22        4+\n",
      "23        4+\n",
      "24        4+\n",
      "25         0\n",
      "26         0\n",
      "27         0\n",
      "28         0\n",
      "29        4+\n",
      "          ..\n",
      "550038     2\n",
      "550039     1\n",
      "550040     3\n",
      "550041     2\n",
      "550042     1\n",
      "550043     1\n",
      "550044     2\n",
      "550045     2\n",
      "550046     1\n",
      "550047     3\n",
      "550048     1\n",
      "550049     3\n",
      "550050    4+\n",
      "550051     3\n",
      "550052     1\n",
      "550053     1\n",
      "550054     3\n",
      "550055    4+\n",
      "550056    4+\n",
      "550057     2\n",
      "550058     0\n",
      "550059     1\n",
      "550060     1\n",
      "550061     1\n",
      "550062     3\n",
      "550063     1\n",
      "550064     3\n",
      "550065    4+\n",
      "550066     2\n",
      "550067    4+\n",
      "Name: Stay_In_Current_City_Years, dtype: object\n"
     ]
    }
   ],
   "source": [
    "print train['Stay_In_Current_City_Years']\n",
    "#for x in train['Purchase']:\n",
    "\n",
    "#    if pd.isnull(x):\n",
    "#        print \"X: \" + x\n",
    "#        x = 0"
   ]
  },
  {
   "cell_type": "code",
   "execution_count": null,
   "metadata": {
    "collapsed": false
   },
   "outputs": [],
   "source": []
  },
  {
   "cell_type": "code",
   "execution_count": null,
   "metadata": {
    "collapsed": true
   },
   "outputs": [],
   "source": []
  }
 ],
 "metadata": {
  "kernelspec": {
   "display_name": "Python 2",
   "language": "python",
   "name": "python2"
  },
  "language_info": {
   "codemirror_mode": {
    "name": "ipython",
    "version": 2
   },
   "file_extension": ".py",
   "mimetype": "text/x-python",
   "name": "python",
   "nbconvert_exporter": "python",
   "pygments_lexer": "ipython2",
   "version": "2.7.6"
  }
 },
 "nbformat": 4,
 "nbformat_minor": 0
}
